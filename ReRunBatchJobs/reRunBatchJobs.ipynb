{
 "cells": [
  {
   "cell_type": "markdown",
   "id": "65dee78e",
   "metadata": {},
   "source": [
    "# Imports and Initialisation"
   ]
  },
  {
   "cell_type": "code",
   "execution_count": 8,
   "id": "3d03b680",
   "metadata": {},
   "outputs": [],
   "source": [
    "import boto3\n",
    "from datetime import datetime, timezone\n",
    "\n",
    "# Initialize Batch client\n",
    "batch = boto3.client('batch')\n",
    "\n",
    "# Constants\n",
    "START_DATE = datetime(2025, 7, 11, tzinfo=timezone.utc)  # 11 July 2025\n",
    "JOB_QUEUES = ['prod-xlsx-to-pdf-queue']  # Replace with actual job queue(s)\n",
    "JOB_STATUS = 'FAILED'"
   ]
  },
  {
   "cell_type": "markdown",
   "id": "bdeee911",
   "metadata": {},
   "source": [
    "# Functions"
   ]
  },
  {
   "cell_type": "code",
   "execution_count": 10,
   "id": "6428c6d2",
   "metadata": {},
   "outputs": [],
   "source": [
    "def get_failed_jobs(job_queue, start_time):\n",
    "    \"\"\"\n",
    "    Fetch failed jobs since a given start time from a job queue.\n",
    "    \"\"\"\n",
    "    failed_jobs = []\n",
    "    next_token = None\n",
    "\n",
    "    while True:\n",
    "        response = batch.list_jobs(\n",
    "            jobQueue=job_queue,\n",
    "            jobStatus=JOB_STATUS,\n",
    "            nextToken=next_token if next_token else '',\n",
    "            maxResults=100\n",
    "        )\n",
    "\n",
    "        for job in response['jobSummaryList']:\n",
    "            created_at = datetime.fromtimestamp(job['createdAt'] / 1000, tz=timezone.utc)\n",
    "            if created_at >= start_time:\n",
    "                failed_jobs.append(job['jobId'])\n",
    "\n",
    "        next_token = response.get('nextToken')\n",
    "        if not next_token:\n",
    "            break\n",
    "\n",
    "    return failed_jobs\n",
    "\n",
    "def rerun_job(job_id):\n",
    "    \"\"\"\n",
    "    Re-run a job using the same job definition, queue, and overrides.\n",
    "    \"\"\"\n",
    "    job_detail = batch.describe_jobs(jobs=[job_id])['jobs'][0]\n",
    "\n",
    "    # Prepare containerOverrides as a dict\n",
    "    container_overrides = {}\n",
    "    if 'container' in job_detail and 'environment' in job_detail['container']:\n",
    "        container_overrides['environment'] = job_detail['container']['environment']\n",
    "\n",
    "    # Prepare retryStrategy with attempts\n",
    "    retry_strategy = job_detail.get('retryStrategy', {})\n",
    "    if 'attempts' not in retry_strategy:\n",
    "        retry_strategy['attempts'] = 1  # Default to 1 attempt if not present\n",
    "\n",
    "    new_job = batch.submit_job(\n",
    "        jobName=job_detail['jobName'] + '-retry',\n",
    "        jobQueue=job_detail['jobQueue'],\n",
    "        jobDefinition=job_detail['jobDefinition'],\n",
    "        containerOverrides=container_overrides,\n",
    "        retryStrategy=retry_strategy\n",
    "    )\n",
    "    print(f\"Re-submitted job: {new_job['jobId']} (original: {job_id})\")\n"
   ]
  },
  {
   "cell_type": "markdown",
   "id": "ab4abc5f",
   "metadata": {},
   "source": [
    "# Main Function"
   ]
  },
  {
   "cell_type": "code",
   "execution_count": 11,
   "id": "d9ba10a3",
   "metadata": {},
   "outputs": [
    {
     "name": "stdout",
     "output_type": "stream",
     "text": [
      "Checking failed jobs in queue: prod-xlsx-to-pdf-queue\n",
      "Found 17 failed jobs since 2025-07-11\n",
      "Re-submitted job: bc1cada0-54f3-4ff4-9dd0-57af670f6731 (original: 01a718ec-810f-4950-82ff-ac45f89b35e6)\n",
      "Re-submitted job: 7c6771ab-e577-467c-a2df-e34e4ce48c8f (original: 65fb4240-a2d6-4ebd-9785-890ecb8574e4)\n",
      "Re-submitted job: a68ee268-5675-4c34-b2f1-ca673a14c9da (original: 156c2c17-753e-41db-9973-89925d10a76a)\n",
      "Re-submitted job: 3cf668c1-dc21-4a86-9479-6d198714e26c (original: 3f74c0df-efe8-421a-9bd1-ac01a21620b9)\n",
      "Re-submitted job: 646ea2f0-6043-40a4-ae7b-49238a6168a9 (original: 85e03e58-26c8-415d-897c-a29274f7c27f)\n",
      "Re-submitted job: 42d313cb-0746-4e96-be32-ff0bd7637e81 (original: a833d64b-4e15-4d6f-a404-f1a7e94004fc)\n",
      "Re-submitted job: 9ed95965-88f1-437f-8d7a-4ee49add6642 (original: 947d1bf8-f5a9-4c5e-b8d2-14578bc1ae8e)\n",
      "Re-submitted job: 7bd6d267-870b-4471-b7ac-1bbefd4af560 (original: d77b7a21-aadc-4c86-aed3-c22085d76995)\n",
      "Re-submitted job: 702e0d8a-2af2-464a-91cf-3edfbf476d73 (original: f2623e2a-9861-4b7d-90dc-9a3dfa04731b)\n",
      "Re-submitted job: 02a195f2-6d7f-43de-bd07-e421a8200eb1 (original: 517f693c-95d1-4203-9a72-d77f2d07b41a)\n",
      "Re-submitted job: 6632e1d0-0c95-45f3-8a23-1f59421163f4 (original: 0c81a9d4-8cbd-44d2-ac67-23bcaa093858)\n",
      "Re-submitted job: b7989757-7d87-4def-a467-59c4ebdf45e1 (original: 2d81dab4-19d2-4ad8-be6f-729e1d52f900)\n",
      "Re-submitted job: 1a86a16b-896c-4845-8350-035c4603777c (original: f76dbbd2-97d1-411a-889a-988325aab7d7)\n",
      "Re-submitted job: 13ab8e1d-dc25-4b99-9ed7-32dc3c9b28d0 (original: 809b0893-84c2-4d42-b53c-6d81cc2f0d58)\n",
      "Re-submitted job: 2820ceeb-169c-4e0e-ab48-eb8b01375271 (original: 8060c3a1-b7ab-42e4-8b86-26633f435814)\n",
      "Re-submitted job: c56ca502-a5e8-4a16-9799-e9a2f1d4b83e (original: 5e2b9d2f-802e-4c72-bdaa-e48a39c9a2fa)\n",
      "Re-submitted job: a574bc91-3334-48d4-9c7d-64d84b27a05e (original: c8c3c84e-1d50-4952-aeb8-d70e1d23d14e)\n"
     ]
    }
   ],
   "source": [
    "def main():\n",
    "    for queue in JOB_QUEUES:\n",
    "        print(f\"Checking failed jobs in queue: {queue}\")\n",
    "        failed_jobs = get_failed_jobs(queue, START_DATE)\n",
    "\n",
    "        print(f\"Found {len(failed_jobs)} failed jobs since {START_DATE.date()}\")\n",
    "\n",
    "        for job_id in failed_jobs:\n",
    "            try:\n",
    "                rerun_job(job_id)\n",
    "            except Exception as e:\n",
    "                print(f\"Failed to rerun job {job_id}: {e}\")\n",
    "\n",
    "if __name__ == '__main__':\n",
    "    main()"
   ]
  }
 ],
 "metadata": {
  "kernelspec": {
   "display_name": ".venv",
   "language": "python",
   "name": "python3"
  },
  "language_info": {
   "codemirror_mode": {
    "name": "ipython",
    "version": 3
   },
   "file_extension": ".py",
   "mimetype": "text/x-python",
   "name": "python",
   "nbconvert_exporter": "python",
   "pygments_lexer": "ipython3",
   "version": "3.9.6"
  }
 },
 "nbformat": 4,
 "nbformat_minor": 5
}
