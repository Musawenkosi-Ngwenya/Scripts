{
 "cells": [
  {
   "cell_type": "markdown",
   "metadata": {},
   "source": [
    "# Re Run Step Function Executions"
   ]
  },
  {
   "cell_type": "markdown",
   "metadata": {},
   "source": [
    "### Imports & Creds :"
   ]
  },
  {
   "cell_type": "code",
   "execution_count": 1,
   "metadata": {},
   "outputs": [],
   "source": [
    "import boto3\n",
    "import datetime\n",
    "from dateutil import tz\n",
    "import sys\n",
    "import ipywidgets as widgets\n",
    "from IPython.display import display, clear_output\n",
    "\n",
    "# Create input widgets\n",
    "state_machine_input = widgets.Text(description=\"State Machine Name:\", placeholder=\"e.g., RAPISAMStateMachine-1YwcU3XmIcZ5\")\n",
    "supplier_id_input = widgets.Text(description=\"Supplier ID:\", placeholder=\"e.g., SAGREETINGS\")\n",
    "start_time_input = widgets.Text(description=\"Start Time UTC:\", placeholder=\"YYYY-MM-DD HH:MM:SS\")\n",
    "run_button = widgets.Button(description=\"Run\", button_style=\"success\")\n",
    "output = widgets.Output()\n",
    "\n",
    "# boto3 client for Step Functions (no profile input here, uses default)\n",
    "stepfunctions = boto3.client('stepfunctions')"
   ]
  },
  {
   "cell_type": "markdown",
   "metadata": {},
   "source": [
    "### Functons :"
   ]
  },
  {
   "cell_type": "code",
   "execution_count": 2,
   "metadata": {},
   "outputs": [],
   "source": [
    "def parse_datetime(dt_str):\n",
    "    try:\n",
    "        # Parse string to datetime with UTC timezone\n",
    "        return datetime.datetime.strptime(dt_str, '%Y-%m-%d %H:%M:%S').replace(tzinfo=datetime.timezone.utc)\n",
    "    except Exception as e:\n",
    "        raise ValueError(f\"Invalid datetime format. Use YYYY-MM-DD HH:MM:SS. Error: {e}\")\n",
    "\n",
    "def get_state_machine_arn(name):\n",
    "    output.append_stdout(f\"[INFO] Looking up state machine ARN for '{name}'...\\n\")\n",
    "    paginator = stepfunctions.get_paginator('list_state_machines')\n",
    "    for page in paginator.paginate():\n",
    "        for sm in page['stateMachines']:\n",
    "            if sm['name'] == name:\n",
    "                output.append_stdout(f\"[INFO] Found ARN: {sm['stateMachineArn']}\\n\")\n",
    "                return sm['stateMachineArn']\n",
    "    raise ValueError(f\"State machine '{name}' not found.\")\n",
    "\n",
    "def list_supplier_executions(state_machine_arn, supplier_id, start_time, end_time):\n",
    "    output.append_stdout(f\"[INFO] Listing executions for supplier '{supplier_id}' between {start_time} and {end_time}...\\n\")\n",
    "\n",
    "    executions = []\n",
    "    paginator = stepfunctions.get_paginator('list_executions')\n",
    "    total_scanned = 0\n",
    "    matched_count = 0\n",
    "\n",
    "    for page in paginator.paginate(stateMachineArn=state_machine_arn):\n",
    "        for exe in page['executions']:\n",
    "            total_scanned += 1\n",
    "\n",
    "            # Stop if execution is older than start_time (pagination in DESC order)\n",
    "            if exe['startDate'] < start_time:\n",
    "                output.append_stdout(\"\\n[INFO] Reached older executions. Stopping pagination.\\n\")\n",
    "                output.append_stdout(f\"[INFO] Total executions scanned: {total_scanned}\\n\")\n",
    "                output.append_stdout(f\"[INFO] Matching executions found: {matched_count}\\n\")\n",
    "                return executions\n",
    "\n",
    "            # Show live scan progress on one line\n",
    "            sys.stdout.write(f\"\\r[SCAN] Scanned: {total_scanned} | Matches: {matched_count}\")\n",
    "            sys.stdout.flush()\n",
    "\n",
    "            if supplier_id in exe['name'] and start_time <= exe['startDate'] <= end_time:\n",
    "                matched_count += 1\n",
    "                executions.append(exe)\n",
    "\n",
    "    print()  # newline after progress bar\n",
    "    output.append_stdout(f\"[INFO] Total executions scanned: {total_scanned}\\n\")\n",
    "    output.append_stdout(f\"[INFO] Matching executions found: {matched_count}\\n\")\n",
    "    return executions\n",
    "\n",
    "def get_execution_input(execution_arn):\n",
    "    output.append_stdout(f\"[INFO] Fetching input for execution ARN: {execution_arn}\\n\")\n",
    "    response = stepfunctions.describe_execution(executionArn=execution_arn)\n",
    "    return response['input']\n",
    "\n",
    "def run_button_clicked(b):\n",
    "    with output:\n",
    "        clear_output()\n",
    "        try:\n",
    "            # Read inputs\n",
    "            state_machine_name = state_machine_input.value.strip()\n",
    "            supplier_id = supplier_id_input.value.strip()\n",
    "            start_time_str = start_time_input.value.strip()\n",
    "\n",
    "            # Validate start time input\n",
    "            start_time_utc = parse_datetime(start_time_str)\n",
    "            now_utc = datetime.datetime.utcnow().replace(tzinfo=datetime.timezone.utc)\n",
    "\n",
    "            # Run main logic\n",
    "            output.append_stdout(\"[INFO] Script started.\\n\")\n",
    "            state_machine_arn = get_state_machine_arn(state_machine_name)\n",
    "            executions = list_supplier_executions(state_machine_arn, supplier_id, start_time_utc, now_utc)\n",
    "\n",
    "            if not executions:\n",
    "                output.append_stdout(\"[INFO] No matching executions found.\\n\")\n",
    "                return\n",
    "\n",
    "            # Optionally, display execution ARNs found\n",
    "            output.append_stdout(f\"\\n[INFO] Matching executions ({len(executions)}):\\n\")\n",
    "            for exe in executions:\n",
    "                output.append_stdout(f\"  - {exe['executionArn']} started at {exe['startDate']}\\n\")\n",
    "\n",
    "            output.append_stdout(\"\\n[INFO] Script finished.\\n\")\n",
    "\n",
    "        except Exception as e:\n",
    "            output.append_stdout(f\"[ERROR] {e}\\n\")\n",
    "\n",
    "# Bind button click event\n",
    "run_button.on_click(run_button_clicked)"
   ]
  },
  {
   "cell_type": "markdown",
   "metadata": {},
   "source": [
    "### Re Run Executions"
   ]
  },
  {
   "cell_type": "code",
   "execution_count": null,
   "metadata": {},
   "outputs": [],
   "source": [
    "# Display widgets\n",
    "display(widgets.HTML(\"<b>Enter Step Functions Query Parameters:</b>\"))\n",
    "display(state_machine_input, supplier_id_input, start_time_input, run_button, output)"
   ]
  }
 ],
 "metadata": {
  "kernelspec": {
   "display_name": ".venv",
   "language": "python",
   "name": "python3"
  },
  "language_info": {
   "codemirror_mode": {
    "name": "ipython",
    "version": 3
   },
   "file_extension": ".py",
   "mimetype": "text/x-python",
   "name": "python",
   "nbconvert_exporter": "python",
   "pygments_lexer": "ipython3",
   "version": "3.9.6"
  },
  "orig_nbformat": 4
 },
 "nbformat": 4,
 "nbformat_minor": 2
}
