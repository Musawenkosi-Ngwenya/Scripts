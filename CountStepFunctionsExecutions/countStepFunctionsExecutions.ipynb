{
 "cells": [
  {
   "cell_type": "markdown",
   "metadata": {},
   "source": [
    "# Re Run Step Function Executions"
   ]
  },
  {
   "cell_type": "markdown",
   "metadata": {},
   "source": [
    "### Imports & Creds :"
   ]
  },
  {
   "cell_type": "code",
   "execution_count": 1,
   "metadata": {},
   "outputs": [],
   "source": [
    "import boto3\n",
    "import datetime\n",
    "from dateutil import tz\n",
    "import sys\n",
    "\n",
    "# Set up boto3 client for Step Functions\n",
    "stepfunctions = boto3.client('stepfunctions')\n",
    "\n",
    "# Constants\n",
    "STATE_MACHINE_NAME = \"RAPISAMStateMachine-1YwcU3XmIcZ5\"\n",
    "SUPPLIER_ID = \"SAGREETINGS\"\n",
    "START_TIME_UTC = datetime.datetime(2025, 5, 27, 14, 0, 0, tzinfo=datetime.timezone.utc) # Change this to the start time you want to start from\n",
    "NOW_UTC = datetime.datetime.utcnow().replace(tzinfo=datetime.timezone.utc)"
   ]
  },
  {
   "cell_type": "markdown",
   "metadata": {},
   "source": [
    "### Functons :"
   ]
  },
  {
   "cell_type": "code",
   "execution_count": 2,
   "metadata": {},
   "outputs": [],
   "source": [
    "def get_state_machine_arn(name):\n",
    "    print(f\"[INFO] Looking up state machine ARN for '{name}'...\")\n",
    "    paginator = stepfunctions.get_paginator('list_state_machines')\n",
    "    for page in paginator.paginate():\n",
    "        for sm in page['stateMachines']:\n",
    "            if sm['name'] == name:\n",
    "                print(f\"[INFO] Found ARN: {sm['stateMachineArn']}\")\n",
    "                return sm['stateMachineArn']\n",
    "    raise ValueError(f\"State machine '{name}' not found.\")\n",
    "\n",
    "def list_supplier_executions(state_machine_arn, supplier_id, start_time, end_time):\n",
    "    print(f\"[INFO] Listing executions for supplier '{supplier_id}' between {start_time} and {end_time}...\")\n",
    "\n",
    "    executions = []\n",
    "    paginator = stepfunctions.get_paginator('list_executions')\n",
    "    total_scanned = 0\n",
    "    matched_count = 0\n",
    "\n",
    "    for page in paginator.paginate(stateMachineArn=state_machine_arn):\n",
    "        for exe in page['executions']:\n",
    "            total_scanned += 1\n",
    "\n",
    "            # Stop if execution is older than the start time (pagination is in DESC order)\n",
    "            if exe['startDate'] < start_time:\n",
    "                print(\"\\n[INFO] Reached older executions. Stopping pagination.\")\n",
    "                print(f\"[INFO] Total executions scanned: {total_scanned}\")\n",
    "                print(f\"[INFO] Matching executions found: {matched_count}\")\n",
    "                return executions\n",
    "\n",
    "            # Show live scan progress on one line\n",
    "            sys.stdout.write(f\"\\r[SCAN] Scanned: {total_scanned} | Matches: {matched_count}\")\n",
    "            sys.stdout.flush()\n",
    "\n",
    "            if supplier_id in exe['name'] and start_time <= exe['startDate'] <= end_time:\n",
    "                matched_count += 1\n",
    "                executions.append(exe)\n",
    "\n",
    "    print()  # newline after progress bar\n",
    "    print(f\"[INFO] Total executions scanned: {total_scanned}\")\n",
    "    print(f\"[INFO] Matching executions found: {matched_count}\")\n",
    "    # return executions\n",
    "    return print(\"Scanned: {total_scanned} | Matches: {matched_count}\")\n",
    "\n",
    "\n",
    "def get_execution_input(execution_arn):\n",
    "    print(f\"[INFO] Fetching input for execution ARN: {execution_arn}\")\n",
    "    response = stepfunctions.describe_execution(executionArn=execution_arn)\n",
    "    return response['input']\n",
    "\n"
   ]
  },
  {
   "cell_type": "markdown",
   "metadata": {},
   "source": [
    "### Re Run Executions"
   ]
  },
  {
   "cell_type": "code",
   "execution_count": null,
   "metadata": {},
   "outputs": [],
   "source": [
    "def main():\n",
    "    print(\"[INFO] Script started.\")\n",
    "    try:\n",
    "        state_machine_arn = get_state_machine_arn(STATE_MACHINE_NAME)\n",
    "        executions = list_supplier_executions(\n",
    "            state_machine_arn, SUPPLIER_ID, START_TIME_UTC, NOW_UTC\n",
    "        )\n",
    "\n",
    "        if not executions:\n",
    "            print(\"[INFO] No matching executions found. Exiting.\")\n",
    "            return\n",
    "\n",
    "    except Exception as e:\n",
    "        print(f\"[ERROR] {e}\")\n",
    "\n",
    "    print(\"[INFO] Script finished.\")\n",
    "\n",
    "if __name__ == \"__main__\":\n",
    "    main()"
   ]
  }
 ],
 "metadata": {
  "kernelspec": {
   "display_name": ".venv",
   "language": "python",
   "name": "python3"
  },
  "language_info": {
   "codemirror_mode": {
    "name": "ipython",
    "version": 3
   },
   "file_extension": ".py",
   "mimetype": "text/x-python",
   "name": "python",
   "nbconvert_exporter": "python",
   "pygments_lexer": "ipython3",
   "version": "3.9.6"
  },
  "orig_nbformat": 4
 },
 "nbformat": 4,
 "nbformat_minor": 2
}
