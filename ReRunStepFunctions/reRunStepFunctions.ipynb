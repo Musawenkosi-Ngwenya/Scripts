{
 "cells": [
  {
   "cell_type": "markdown",
   "metadata": {},
   "source": [
    "# Re Run Step Function Executions"
   ]
  },
  {
   "cell_type": "markdown",
   "metadata": {},
   "source": [
    "### Imports & Creds :"
   ]
  },
  {
   "cell_type": "code",
   "execution_count": 4,
   "metadata": {},
   "outputs": [],
   "source": [
    "import boto3\n",
    "import datetime\n",
    "from dateutil import tz\n",
    "\n",
    "# Set up boto3 client for Step Functions\n",
    "stepfunctions = boto3.client('stepfunctions')\n",
    "\n",
    "# Constants\n",
    "STATE_MACHINE_NAME = \"RAPISAMStateMachine-1YwcU3XmIcZ5\"\n",
    "SUPPLIER_ID = \"MACKIE\"\n",
    "START_TIME_UTC = datetime.datetime(2025, 5, 27, 14, 0, 0, tzinfo=datetime.timezone.utc)\n",
    "NOW_UTC = datetime.datetime.utcnow().replace(tzinfo=datetime.timezone.utc)"
   ]
  },
  {
   "cell_type": "markdown",
   "metadata": {},
   "source": [
    "### Functons :"
   ]
  },
  {
   "cell_type": "code",
   "execution_count": 5,
   "metadata": {},
   "outputs": [],
   "source": [
    "def get_state_machine_arn(name):\n",
    "    print(f\"[INFO] Looking up state machine ARN for '{name}'...\")\n",
    "    paginator = stepfunctions.get_paginator('list_state_machines')\n",
    "    for page in paginator.paginate():\n",
    "        for sm in page['stateMachines']:\n",
    "            if sm['name'] == name:\n",
    "                print(f\"[INFO] Found ARN: {sm['stateMachineArn']}\")\n",
    "                return sm['stateMachineArn']\n",
    "    raise ValueError(f\"State machine '{name}' not found.\")\n",
    "\n",
    "def list_supplier_executions(state_machine_arn, supplier_id, start_time, end_time):\n",
    "    print(f\"[INFO] Listing executions for supplier '{supplier_id}' between {start_time} and {end_time}...\")\n",
    "    executions = []\n",
    "    paginator = stepfunctions.get_paginator('list_executions')\n",
    "    total_scanned = 0\n",
    "    matched_count = 0\n",
    "    for page in paginator.paginate(stateMachineArn=state_machine_arn, statusFilter='SUCCEEDED'):\n",
    "        for exe in page['executions']:\n",
    "            total_scanned += 1\n",
    "            if supplier_id in exe['name'] and start_time <= exe['startDate'] <= end_time:\n",
    "                matched_count += 1\n",
    "                print(f\"  [MATCH {matched_count}] Name: {exe['name']}, Start: {exe['startDate']}\")\n",
    "                executions.append(exe)\n",
    "    print(f\"[INFO] Total executions scanned: {total_scanned}\")\n",
    "    print(f\"[INFO] Matching executions found: {matched_count}\")\n",
    "    return executions\n",
    "\n",
    "def get_execution_input(execution_arn):\n",
    "    print(f\"[INFO] Fetching input for execution ARN: {execution_arn}\")\n",
    "    response = stepfunctions.describe_execution(executionArn=execution_arn)\n",
    "    return response['input']\n",
    "\n",
    "def start_retry_executions(executions, state_machine_arn):\n",
    "    print(f\"[INFO] Retrying {len(executions)} executions...\")\n",
    "    for i, exe in enumerate(executions, 1):\n",
    "        new_name = f\"{exe['name']}-Retry\"\n",
    "        input_data = get_execution_input(exe['executionArn'])\n",
    "        print(f\"[{i}/{len(executions)}] Starting retry: {new_name}\")\n",
    "        try:\n",
    "            stepfunctions.start_execution(\n",
    "                stateMachineArn=state_machine_arn,\n",
    "                name=new_name[:80],\n",
    "                input=input_data\n",
    "            )\n",
    "            print(f\"    ✅ Success: {new_name}\")\n",
    "        except stepfunctions.exceptions.ExecutionAlreadyExists as e:\n",
    "            print(f\"    ⚠️ Skipped (already exists): {new_name}\")\n",
    "        except Exception as e:\n",
    "            print(f\"    ❌ Error: {e}\")\n"
   ]
  },
  {
   "cell_type": "markdown",
   "metadata": {},
   "source": [
    "### Re Run Executions"
   ]
  },
  {
   "cell_type": "code",
   "execution_count": null,
   "metadata": {},
   "outputs": [
    {
     "name": "stdout",
     "output_type": "stream",
     "text": [
      "[INFO] Script started.\n",
      "[INFO] Looking up state machine ARN for 'RAPISAMStateMachine-1YwcU3XmIcZ5'...\n",
      "[INFO] Found ARN: arn:aws:states:us-east-1:389633136494:stateMachine:RAPISAMStateMachine-1YwcU3XmIcZ5\n",
      "[INFO] Listing executions for supplier 'MACKIE' between 2025-05-27 14:00:00+00:00 and 2025-05-28 13:17:28.101616+00:00...\n",
      "  [MATCH 1] Name: MACKIE_005140_251482813091331_20250528111011.492, Start: 2025-05-28 13:10:17.641000+02:00\n",
      "  [MATCH 2] Name: MACKIE_100179_251482812452479_20250528104510.1689, Start: 2025-05-28 12:45:48.304000+02:00\n",
      "  [MATCH 3] Name: MACKIE_002239_251482812270921_20250528102810.8824, Start: 2025-05-28 12:28:17.023000+02:00\n",
      "  [MATCH 4] Name: MACKIE_100179_251482812233775_20250528102410.786, Start: 2025-05-28 12:24:08.940000+02:00\n",
      "  [MATCH 5] Name: MACKIE_008111_251482810350830_20250528083608.4542, Start: 2025-05-28 10:36:13.590000+02:00\n",
      "  [MATCH 6] Name: MACKIE_004442_251482809262353_20250528072607.7895, Start: 2025-05-28 09:26:31.960000+02:00\n",
      "  [MATCH 7] Name: MACKIE_233282416000726_251472717545942_20250527155515.6773, Start: 2025-05-27 17:55:49.853000+02:00\n",
      "  [MATCH 8] Name: MACKIE_243521708210577_251472717340712_20250527153415.901, Start: 2025-05-27 17:34:53.050000+02:00\n"
     ]
    }
   ],
   "source": [
    "def main():\n",
    "    print(\"[INFO] Script started.\")\n",
    "    try:\n",
    "        state_machine_arn = get_state_machine_arn(STATE_MACHINE_NAME)\n",
    "        executions = list_supplier_executions(\n",
    "            state_machine_arn, SUPPLIER_ID, START_TIME_UTC, NOW_UTC\n",
    "        )\n",
    "\n",
    "        if not executions:\n",
    "            print(\"[INFO] No matching executions found. Exiting.\")\n",
    "            return\n",
    "\n",
    "        start_retry_executions(executions, state_machine_arn)\n",
    "    except Exception as e:\n",
    "        print(f\"[ERROR] {e}\")\n",
    "\n",
    "    print(\"[INFO] Script finished.\")\n",
    "\n",
    "if __name__ == \"__main__\":\n",
    "    main()"
   ]
  }
 ],
 "metadata": {
  "kernelspec": {
   "display_name": ".venv",
   "language": "python",
   "name": "python3"
  },
  "language_info": {
   "codemirror_mode": {
    "name": "ipython",
    "version": 3
   },
   "file_extension": ".py",
   "mimetype": "text/x-python",
   "name": "python",
   "nbconvert_exporter": "python",
   "pygments_lexer": "ipython3",
   "version": "3.9.6"
  },
  "orig_nbformat": 4
 },
 "nbformat": 4,
 "nbformat_minor": 2
}
