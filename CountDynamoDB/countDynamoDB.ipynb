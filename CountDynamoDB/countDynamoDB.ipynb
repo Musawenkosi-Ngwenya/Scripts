{
 "cells": [
  {
   "cell_type": "markdown",
   "metadata": {},
   "source": [
    "Imports"
   ]
  },
  {
   "cell_type": "code",
   "execution_count": 4,
   "metadata": {},
   "outputs": [],
   "source": [
    "import boto3"
   ]
  },
  {
   "cell_type": "markdown",
   "metadata": {},
   "source": [
    "Initialization"
   ]
  },
  {
   "cell_type": "code",
   "execution_count": 5,
   "metadata": {},
   "outputs": [],
   "source": [
    "# Initialize a session using Amazon DynamoDB with default AWS CLI credentials\n",
    "session = boto3.Session(profile_name='musarisaas')\n",
    "\n",
    "# Initialize DynamoDB resource\n",
    "dynamodb = session.resource('dynamodb')\n",
    "\n",
    "# Specify the table name\n",
    "table_name = 'CoreUser'\n",
    "\n",
    "# Initialize the table\n",
    "table = dynamodb.Table(table_name)\n",
    "\n",
    "# Define the query parameters\n",
    "partition_key = 'PEPSICO-PRE'\n",
    "# sort_key_condition = '2024'  # The condition that the sort key begins with\n",
    "# filter_expression = boto3.dynamodb.conditions.Attr('Version').begins_with(sort_key_condition)\n"
   ]
  },
  {
   "cell_type": "markdown",
   "metadata": {},
   "source": [
    "Query and count"
   ]
  },
  {
   "cell_type": "code",
   "execution_count": 6,
   "metadata": {},
   "outputs": [
    {
     "name": "stdout",
     "output_type": "stream",
     "text": [
      "Total number of records: 87\n"
     ]
    }
   ],
   "source": [
    "# Initialize variables for pagination\n",
    "record_count = 0\n",
    "last_evaluated_key = None\n",
    "\n",
    "# Paginate through the results\n",
    "while True:\n",
    "    if last_evaluated_key:\n",
    "        response = table.query(\n",
    "            KeyConditionExpression=boto3.dynamodb.conditions.Key('SupplierID').eq(partition_key),\n",
    "            # FilterExpression=filter_expression,\n",
    "            ExclusiveStartKey=last_evaluated_key\n",
    "        )\n",
    "    else:\n",
    "        response = table.query(\n",
    "            KeyConditionExpression=boto3.dynamodb.conditions.Key('SupplierID').eq(partition_key),\n",
    "            # FilterExpression=filter_expression\n",
    "        )\n",
    "    \n",
    "    # Count the number of records in this page\n",
    "    record_count += response['Count']\n",
    "    \n",
    "    # Check if there's more data to fetch\n",
    "    last_evaluated_key = response.get('LastEvaluatedKey')\n",
    "    if not last_evaluated_key:\n",
    "        break\n",
    "\n",
    "print(f\"Total number of records: {record_count}\")"
   ]
  }
 ],
 "metadata": {
  "kernelspec": {
   "display_name": "Python 3",
   "language": "python",
   "name": "python3"
  },
  "language_info": {
   "codemirror_mode": {
    "name": "ipython",
    "version": 3
   },
   "file_extension": ".py",
   "mimetype": "text/x-python",
   "name": "python",
   "nbconvert_exporter": "python",
   "pygments_lexer": "ipython3",
   "version": "3.9.6"
  }
 },
 "nbformat": 4,
 "nbformat_minor": 2
}
