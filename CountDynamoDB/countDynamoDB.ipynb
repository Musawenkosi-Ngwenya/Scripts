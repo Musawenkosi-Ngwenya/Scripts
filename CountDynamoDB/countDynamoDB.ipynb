{
 "cells": [
  {
   "cell_type": "markdown",
   "metadata": {},
   "source": [
    "Imports"
   ]
  },
  {
   "cell_type": "code",
   "execution_count": 4,
   "metadata": {},
   "outputs": [],
   "source": [
    "import boto3\n",
    "from boto3.dynamodb.conditions import Key, Attr\n",
    "import ipywidgets as widgets\n",
    "from IPython.display import display, clear_output"
   ]
  },
  {
   "cell_type": "markdown",
   "metadata": {},
   "source": [
    "Initialization"
   ]
  },
  {
   "cell_type": "code",
   "execution_count": 5,
   "metadata": {},
   "outputs": [],
   "source": [
    "\n",
    "# Widgets for user inputs\n",
    "profile_input = widgets.Text(description=\"AWS Profile:\", placeholder=\"e.g., musarisaas\")\n",
    "table_input = widgets.Text(description=\"Table Name:\", placeholder=\"e.g., CoreUser\")\n",
    "partition_key_input = widgets.Text(description=\"Partition Key:\", placeholder=\"e.g., PEPSICO-PRE\")\n",
    "sort_key_prefix_input = widgets.Text(description=\"Sort Key Prefix (optional):\", placeholder=\"e.g., 2024\")\n",
    "run_button = widgets.Button(description=\"Run Query\", button_style=\"success\")\n",
    "output = widgets.Output()"
   ]
  },
  {
   "cell_type": "markdown",
   "metadata": {},
   "source": [
    "Query and count"
   ]
  },
  {
   "cell_type": "code",
   "execution_count": 6,
   "metadata": {},
   "outputs": [],
   "source": [
    "def run_query(b):\n",
    "    with output:\n",
    "        clear_output()\n",
    "        try:\n",
    "            # Read inputs\n",
    "            profile_name = profile_input.value.strip()\n",
    "            table_name = table_input.value.strip()\n",
    "            partition_value = partition_key_input.value.strip()\n",
    "            sort_key_prefix = sort_key_prefix_input.value.strip()\n",
    "\n",
    "            # Initialize boto3 session and DynamoDB table\n",
    "            session = boto3.Session(profile_name=profile_name)\n",
    "            dynamodb = session.resource('dynamodb')\n",
    "            table = dynamodb.Table(table_name)\n",
    "\n",
    "            # Initialize pagination vars\n",
    "            record_count = 0\n",
    "            last_evaluated_key = None\n",
    "\n",
    "            # Prepare KeyConditionExpression\n",
    "            key_cond = Key('SupplierID').eq(partition_value)\n",
    "            if sort_key_prefix:\n",
    "                key_cond = key_cond & Key('Version').begins_with(sort_key_prefix)\n",
    "\n",
    "            # Paginate through results\n",
    "            while True:\n",
    "                if last_evaluated_key:\n",
    "                    response = table.query(\n",
    "                        KeyConditionExpression=key_cond,\n",
    "                        ExclusiveStartKey=last_evaluated_key\n",
    "                    )\n",
    "                else:\n",
    "                    response = table.query(\n",
    "                        KeyConditionExpression=key_cond\n",
    "                    )\n",
    "\n",
    "                record_count += response['Count']\n",
    "\n",
    "                # Print fetched items for this page\n",
    "                for item in response.get('Items', []):\n",
    "                    print(item)\n",
    "\n",
    "                last_evaluated_key = response.get('LastEvaluatedKey')\n",
    "                if not last_evaluated_key:\n",
    "                    break\n",
    "\n",
    "            print(f\"\\nTotal number of records fetched: {record_count}\")\n",
    "\n",
    "        except Exception as e:\n",
    "            print(f\"Error: {e}\")\n",
    "\n",
    "run_button.on_click(run_query)"
   ]
  },
  {
   "cell_type": "code",
   "execution_count": null,
   "metadata": {},
   "outputs": [],
   "source": [
    "# Display widgets and output area\n",
    "display(widgets.HTML(\"<b>Enter DynamoDB Query Parameters:</b>\"))\n",
    "display(profile_input, table_input, partition_key_input, sort_key_prefix_input, run_button, output)"
   ]
  }
 ],
 "metadata": {
  "kernelspec": {
   "display_name": ".venv",
   "language": "python",
   "name": "python3"
  },
  "language_info": {
   "codemirror_mode": {
    "name": "ipython",
    "version": 3
   },
   "file_extension": ".py",
   "mimetype": "text/x-python",
   "name": "python",
   "nbconvert_exporter": "python",
   "pygments_lexer": "ipython3",
   "version": "3.9.6"
  }
 },
 "nbformat": 4,
 "nbformat_minor": 2
}
