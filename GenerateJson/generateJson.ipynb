{
 "cells": [
  {
   "cell_type": "markdown",
   "metadata": {},
   "source": [
    "# Generate A big JSON : "
   ]
  },
  {
   "cell_type": "markdown",
   "metadata": {},
   "source": [
    "### Imports and Variables : "
   ]
  },
  {
   "cell_type": "code",
   "execution_count": 3,
   "metadata": {},
   "outputs": [],
   "source": [
    "import json\n",
    "import random\n",
    "from faker import Faker\n",
    "\n",
    "fake = Faker()\n",
    "\n",
    "# Create a list to store the objects\n",
    "data = []\n",
    "used_pricelists = set()  # Keep track of used PriceList values\n",
    "\n",
    "# Amount of Objects\n",
    "num = 122"
   ]
  },
  {
   "cell_type": "markdown",
   "metadata": {},
   "source": [
    "### Create the bulk json : \n"
   ]
  },
  {
   "cell_type": "code",
   "execution_count": 4,
   "metadata": {},
   "outputs": [
    {
     "name": "stdout",
     "output_type": "stream",
     "text": [
      "JSON file with  122  objects created.\n"
     ]
    }
   ],
   "source": [
    "for _ in range(num):\n",
    "    product_id = fake.uuid4().replace(\"-\", \"\")  # Generate a random ProductID\n",
    "    from_date = fake.date_time_this_decade().isoformat() + \"Z\"\n",
    "    to_date = \"9999-12-31T00:00:00Z\"\n",
    "    \n",
    "    # Generate a unique random PriceList value\n",
    "    while True:\n",
    "        pricelist = str(random.randint(1, 500))\n",
    "        if pricelist not in used_pricelists:\n",
    "            used_pricelists.add(pricelist)\n",
    "            break\n",
    "    \n",
    "    user_id = fake.bothify(text=\"??########\")  # Randomized UserID (e.g., \"AB12345678\")\n",
    "\n",
    "    obj = {\n",
    "        \"AllCustomers\": False,\n",
    "        \"Vendor\": None,\n",
    "        \"Userfield01\": None,\n",
    "        \"LastLoginDate\": \"0001-01-01T00:00:00Z\",\n",
    "        \"IsAdmin\": False,\n",
    "        \"CanOrder\": False,\n",
    "        \"Manager\": None,\n",
    "        \"WeeklySummary\": False,\n",
    "        \"RepID\": user_id,\n",
    "        \"AddressID\": 0,\n",
    "        \"FailedPasswordAttemptCount\": 0,\n",
    "        \"SocialLogin\": 0.0,\n",
    "        \"IsManager\": False,\n",
    "        \"AllInArea\": True,\n",
    "        \"Deleted\": False,\n",
    "        \"Tel\": None,\n",
    "        \"Name\": f\"{user_id} DRIVER\",  # Randomized UserID reflected in the name\n",
    "        \"Role\": \"OFFLOAD,REPL,POD,DS,REQ,GRV\",\n",
    "        \"DefaultBranchID\": \"6141\",\n",
    "        \"Country\": None,\n",
    "        \"MonthlyKPI\": False,\n",
    "        \"DefaultAreaID\": \"ZABW00\",\n",
    "        \"PasswordSalt\": \"OFFLOAD,REPL,POD,DS,REQ,GRV\",\n",
    "        \"DailySummary\": False,\n",
    "        \"IsLockedOut\": False,\n",
    "        \"Email\": None,\n",
    "        \"UserID\": user_id,  # Randomized UserID\n",
    "        \"SupplierID\": \"PEPSICO-PRO\",\n",
    "        \"AllInBranch\": False,\n",
    "        \"AcceptTC\": False,\n",
    "        \"DefaultWarehouseID\": None,\n",
    "        \"SupplierIDUserID\": None,\n",
    "        \"IsRep\": False,\n",
    "        \"PasswordHash\": \"password\",\n",
    "        \"Version\": None,\n",
    "        \"Password\": None,\n",
    "        \"Count\": 0.0\n",
    "    }\n",
    "    data.append(obj)\n",
    "\n",
    "# Save the data to a JSON file\n",
    "with open(\"output.json\", \"w\") as json_file:\n",
    "    json.dump(data, json_file, indent=4)\n",
    "\n",
    "print(\"JSON file with \", num , \" objects created.\")"
   ]
  }
 ],
 "metadata": {
  "kernelspec": {
   "display_name": "Python 3",
   "language": "python",
   "name": "python3"
  },
  "language_info": {
   "codemirror_mode": {
    "name": "ipython",
    "version": 3
   },
   "file_extension": ".py",
   "mimetype": "text/x-python",
   "name": "python",
   "nbconvert_exporter": "python",
   "pygments_lexer": "ipython3",
   "version": "3.9.6"
  },
  "orig_nbformat": 4
 },
 "nbformat": 4,
 "nbformat_minor": 2
}
