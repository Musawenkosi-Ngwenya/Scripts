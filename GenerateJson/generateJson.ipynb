{
 "cells": [
  {
   "cell_type": "markdown",
   "metadata": {},
   "source": [
    "# Generate a sample JSON : "
   ]
  },
  {
   "cell_type": "markdown",
   "metadata": {},
   "source": [
    "### Imports and Variables : "
   ]
  },
  {
   "cell_type": "code",
   "execution_count": 36,
   "metadata": {},
   "outputs": [],
   "source": [
    "import json\n",
    "import random\n",
    "from faker import Faker\n",
    "from datetime import datetime\n",
    "import ipywidgets as widgets\n",
    "from IPython.display import display\n",
    "import os\n",
    "\n",
    "fake = Faker()"
   ]
  },
  {
   "cell_type": "markdown",
   "metadata": {},
   "source": [
    "### Upload Sample JSON"
   ]
  },
  {
   "cell_type": "code",
   "execution_count": null,
   "metadata": {},
   "outputs": [],
   "source": [
    "upload = widgets.FileUpload(accept=\".json\", multiple=False)\n",
    "display(widgets.HTML(\"<b>Upload a sample JSON file:</b>\"))\n",
    "display(upload)\n"
   ]
  },
  {
   "cell_type": "markdown",
   "metadata": {},
   "source": [
    "### Input Widget"
   ]
  },
  {
   "cell_type": "code",
   "execution_count": 38,
   "metadata": {},
   "outputs": [],
   "source": [
    "supplier_input = widgets.Text(description='SupplierID:', placeholder='Enter SupplierID')\n",
    "count_input = widgets.IntText(description='Count:', value=50)\n",
    "generate_btn = widgets.Button(description=\"Generate Data\", button_style=\"success\")\n",
    "\n",
    "output_box = widgets.Output()"
   ]
  },
  {
   "cell_type": "markdown",
   "metadata": {},
   "source": [
    "### Generate fake values based on json inputed"
   ]
  },
  {
   "cell_type": "code",
   "execution_count": 39,
   "metadata": {},
   "outputs": [],
   "source": [
    "def infer_generator(key, value):\n",
    "    \"\"\"Infer a generator based on value type.\"\"\"\n",
    "    if key.lower() == \"supplierid\":\n",
    "        return None  # will be set manually\n",
    "    if isinstance(value, str):\n",
    "        if \"@\" in value:\n",
    "            return lambda: fake.email()\n",
    "        elif value.isdigit():\n",
    "            return lambda: fake.random_number(digits=len(value))\n",
    "        elif \"-\" in value and \":\" in value:\n",
    "            return lambda: fake.date_time_between(start_date=\"-10y\", end_date=\"now\").isoformat() + \"Z\"\n",
    "        elif len(value) < 10:\n",
    "            return lambda: fake.word().upper()\n",
    "        else:\n",
    "            return lambda: fake.text(max_nb_chars=len(value))\n",
    "    elif isinstance(value, float):\n",
    "        return lambda: round(random.uniform(0.5 * value, 1.5 * value), 2)\n",
    "    elif isinstance(value, int):\n",
    "        return lambda: random.randint(int(0.5 * value), int(1.5 * value))\n",
    "    elif isinstance(value, bool):\n",
    "        return lambda: random.choice([True, False])\n",
    "    else:\n",
    "        return lambda: None\n",
    "\n",
    "def generate_data(sample_obj, count, supplier_id):\n",
    "    def recursive_generate(sample):\n",
    "        if isinstance(sample, dict):\n",
    "            result = {}\n",
    "            for key, val in sample.items():\n",
    "                if key == \"SupplierID\":\n",
    "                    result[key] = supplier_id\n",
    "                elif isinstance(val, dict):\n",
    "                    result[key] = recursive_generate(val)\n",
    "                elif isinstance(val, list):\n",
    "                    if val and isinstance(val[0], dict):\n",
    "                        # Generate random number of items (e.g. 1 to 5) per list\n",
    "                        result[key] = [recursive_generate(item) for item in val]\n",
    "                    else:\n",
    "                        result[key] = val  # Leave as is if not list of dicts\n",
    "                else:\n",
    "                    gen = infer_generator(key, val)\n",
    "                    result[key] = gen() if gen else val\n",
    "            return result\n",
    "        return sample\n",
    "\n",
    "    return [recursive_generate(sample_obj) for _ in range(count)]\n",
    "\n",
    "\n",
    "\n"
   ]
  },
  {
   "cell_type": "markdown",
   "metadata": {},
   "source": [
    "### Generate Data"
   ]
  },
  {
   "cell_type": "code",
   "execution_count": 40,
   "metadata": {},
   "outputs": [],
   "source": [
    "def get_upload_file_content(upload_widget):\n",
    "    val = upload_widget.value\n",
    "    with output_box:\n",
    "        print(\"Inside get_upload_file_content, value type:\", type(val))\n",
    "        print(\"Value content preview:\", str(val)[:500])\n",
    "    if not val:\n",
    "        return None\n",
    "\n",
    "    try:\n",
    "        # ipywidgets >= 8 returns a dict; older versions may return a tuple\n",
    "        upload_item = next(iter(val.values())) if isinstance(val, dict) else val[0]\n",
    "        mem_view = upload_item.get('content')\n",
    "        if mem_view:\n",
    "            return mem_view.tobytes()\n",
    "    except Exception as e:\n",
    "        with output_box:\n",
    "            print(\"❌ Error accessing uploaded file content:\", e)\n",
    "\n",
    "    with output_box:\n",
    "        print(\"Unknown upload.value format\")\n",
    "    return None\n"
   ]
  },
  {
   "cell_type": "markdown",
   "metadata": {},
   "source": [
    "### On Click Generate \n"
   ]
  },
  {
   "cell_type": "code",
   "execution_count": 41,
   "metadata": {},
   "outputs": [],
   "source": [
    "def on_generate_clicked(b):\n",
    "    output_box.clear_output()\n",
    "\n",
    "    if not upload.value:\n",
    "        with output_box:\n",
    "            print(\"❌ Please upload a sample JSON file first.\")\n",
    "        return\n",
    "\n",
    "    try:\n",
    "        raw = get_upload_file_content(upload)\n",
    "        text = raw.decode('utf-8')\n",
    "        try:\n",
    "            sample = json.loads(text)\n",
    "        except json.JSONDecodeError as e:\n",
    "            with output_box:\n",
    "                print(\"Standard JSON failed, trying JSON lines. Error:\", e)\n",
    "            sample = []\n",
    "            for i, line in enumerate(text.splitlines()):\n",
    "                if line.strip():\n",
    "                    try:\n",
    "                        sample.append(json.loads(line))\n",
    "                    except Exception as line_e:\n",
    "                        with output_box:\n",
    "                            print(f\"Line {i+1} failed: {line_e}\")\n",
    "            if not sample:\n",
    "                with output_box:\n",
    "                    print(\"❌ No valid JSON objects found in file.\")\n",
    "                return\n",
    "        sample_obj = sample[0] if isinstance(sample, list) else sample\n",
    "    except Exception as e:\n",
    "        with output_box:\n",
    "            print(f\"❌ Failed to parse sample file: {e}\")\n",
    "        return\n",
    "\n",
    "    supplier_id = supplier_input.value.strip()\n",
    "    count = count_input.value\n",
    "\n",
    "    if not supplier_id:\n",
    "        with output_box:\n",
    "            print(\"❌ SupplierID is required.\")\n",
    "        return\n",
    "\n",
    "    generated = generate_data(sample_obj, count, supplier_id)\n",
    "\n",
    "    with output_box:\n",
    "        print(f\"✅ Generated {count} records with SupplierID: {supplier_id}\")\n",
    "        display(generated[:3])  # Show a sample preview\n",
    "\n",
    "        filename = f\"generated_{supplier_id}_{datetime.now().strftime('%Y%m%d_%H%M%S')}.json\"\n",
    "        filepath = os.path.join(os.getcwd(), filename)\n",
    "\n",
    "        with open(filepath, \"w\") as f:\n",
    "            json.dump(generated, f, indent=4)\n",
    "\n",
    "        with output_box:\n",
    "            print(f\"📁 File saved as: {filepath}\")\n",
    "\n",
    "# Attach the event handler to the button\n",
    "generate_btn.on_click(on_generate_clicked)"
   ]
  },
  {
   "cell_type": "markdown",
   "metadata": {},
   "source": [
    "### Display Widgets"
   ]
  },
  {
   "cell_type": "code",
   "execution_count": null,
   "metadata": {},
   "outputs": [],
   "source": [
    "display(widgets.HTML(\"<b>Enter SupplierID and Number of Records:</b>\"))\n",
    "display(supplier_input, count_input, generate_btn, output_box)"
   ]
  }
 ],
 "metadata": {
  "kernelspec": {
   "display_name": ".venv",
   "language": "python",
   "name": "python3"
  },
  "language_info": {
   "codemirror_mode": {
    "name": "ipython",
    "version": 3
   },
   "file_extension": ".py",
   "mimetype": "text/x-python",
   "name": "python",
   "nbconvert_exporter": "python",
   "pygments_lexer": "ipython3",
   "version": "3.9.6"
  },
  "orig_nbformat": 4
 },
 "nbformat": 4,
 "nbformat_minor": 2
}
